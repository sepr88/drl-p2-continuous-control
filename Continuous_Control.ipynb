{
 "cells": [
  {
   "cell_type": "markdown",
   "metadata": {},
   "source": [
    "# Continuous Control\n",
    "\n",
    "---\n",
    "\n",
    "In this notebook, you will learn how to use the Unity ML-Agents environment for the second project of the [Deep Reinforcement Learning Nanodegree](https://www.udacity.com/course/deep-reinforcement-learning-nanodegree--nd893) program.\n",
    "\n",
    "### 1. Start the Environment\n",
    "\n",
    "We begin by importing the necessary packages.  If the code cell below returns an error, please revisit the project instructions to double-check that you have installed [Unity ML-Agents](https://github.com/Unity-Technologies/ml-agents/blob/master/docs/Installation.md) and [NumPy](http://www.numpy.org/)."
   ]
  },
  {
   "cell_type": "code",
   "execution_count": 1,
   "metadata": {},
   "outputs": [],
   "source": [
    "from unityagents import UnityEnvironment\n",
    "import numpy as np\n",
    "import torch\n",
    "from ddpg_agent import Agent\n",
    "import matplotlib.pyplot as plt\n",
    "%matplotlib inline"
   ]
  },
  {
   "cell_type": "markdown",
   "metadata": {},
   "source": [
    "Next, we will start the environment!  **_Before running the code cell below_**, change the `file_name` parameter to match the location of the Unity environment that you downloaded.\n",
    "\n",
    "- **Mac**: `\"path/to/Reacher.app\"`\n",
    "- **Windows** (x86): `\"path/to/Reacher_Windows_x86/Reacher.exe\"`\n",
    "- **Windows** (x86_64): `\"path/to/Reacher_Windows_x86_64/Reacher.exe\"`\n",
    "- **Linux** (x86): `\"path/to/Reacher_Linux/Reacher.x86\"`\n",
    "- **Linux** (x86_64): `\"path/to/Reacher_Linux/Reacher.x86_64\"`\n",
    "- **Linux** (x86, headless): `\"path/to/Reacher_Linux_NoVis/Reacher.x86\"`\n",
    "- **Linux** (x86_64, headless): `\"path/to/Reacher_Linux_NoVis/Reacher.x86_64\"`\n",
    "\n",
    "For instance, if you are using a Mac, then you downloaded `Reacher.app`.  If this file is in the same folder as the notebook, then the line below should appear as follows:\n",
    "```\n",
    "env = UnityEnvironment(file_name=\"Reacher.app\")\n",
    "```"
   ]
  },
  {
   "cell_type": "code",
   "execution_count": 2,
   "metadata": {},
   "outputs": [
    {
     "name": "stderr",
     "output_type": "stream",
     "text": [
      "INFO:unityagents:\n",
      "'Academy' started successfully!\n",
      "Unity Academy name: Academy\n",
      "        Number of Brains: 1\n",
      "        Number of External Brains : 1\n",
      "        Lesson number : 0\n",
      "        Reset Parameters :\n",
      "\t\tgoal_speed -> 1.0\n",
      "\t\tgoal_size -> 5.0\n",
      "Unity brain name: ReacherBrain\n",
      "        Number of Visual Observations (per agent): 0\n",
      "        Vector Observation space type: continuous\n",
      "        Vector Observation space size (per agent): 33\n",
      "        Number of stacked Vector Observation: 1\n",
      "        Vector Action space type: continuous\n",
      "        Vector Action space size (per agent): 4\n",
      "        Vector Action descriptions: , , , \n"
     ]
    }
   ],
   "source": [
    "env = UnityEnvironment(file_name='Reacher_Windows_x86_64_multi/Reacher.exe')"
   ]
  },
  {
   "cell_type": "markdown",
   "metadata": {},
   "source": [
    "Environments contain **_brains_** which are responsible for deciding the actions of their associated agents. Here we check for the first brain available, and set it as the default brain we will be controlling from Python."
   ]
  },
  {
   "cell_type": "code",
   "execution_count": 3,
   "metadata": {},
   "outputs": [],
   "source": [
    "# get the default brain\n",
    "brain_name = env.brain_names[0]\n",
    "brain = env.brains[brain_name]"
   ]
  },
  {
   "cell_type": "markdown",
   "metadata": {},
   "source": [
    "### 2. Examine the State and Action Spaces\n",
    "\n",
    "In this environment, a double-jointed arm can move to target locations. A reward of `+0.1` is provided for each step that the agent's hand is in the goal location. Thus, the goal of your agent is to maintain its position at the target location for as many time steps as possible.\n",
    "\n",
    "The observation space consists of `33` variables corresponding to position, rotation, velocity, and angular velocities of the arm.  Each action is a vector with four numbers, corresponding to torque applicable to two joints.  Every entry in the action vector must be a number between `-1` and `1`.\n",
    "\n",
    "Run the code cell below to print some information about the environment."
   ]
  },
  {
   "cell_type": "code",
   "execution_count": 4,
   "metadata": {},
   "outputs": [
    {
     "name": "stdout",
     "output_type": "stream",
     "text": [
      "Number of agents: 20\n",
      "Size of each action: 4\n",
      "There are 20 agents. Each observes a state with length: 33\n",
      "The state for the first agent looks like: [ 0.00000000e+00 -4.00000000e+00  0.00000000e+00  1.00000000e+00\n",
      " -0.00000000e+00 -0.00000000e+00 -4.37113883e-08  0.00000000e+00\n",
      "  0.00000000e+00  0.00000000e+00  0.00000000e+00  0.00000000e+00\n",
      "  0.00000000e+00  0.00000000e+00 -1.00000000e+01  0.00000000e+00\n",
      "  1.00000000e+00 -0.00000000e+00 -0.00000000e+00 -4.37113883e-08\n",
      "  0.00000000e+00  0.00000000e+00  0.00000000e+00  0.00000000e+00\n",
      "  0.00000000e+00  0.00000000e+00  5.75471878e+00 -1.00000000e+00\n",
      "  5.55726624e+00  0.00000000e+00  1.00000000e+00  0.00000000e+00\n",
      " -1.68164849e-01]\n"
     ]
    }
   ],
   "source": [
    "# reset the environment\n",
    "env_info = env.reset(train_mode=True)[brain_name]\n",
    "\n",
    "# number of agents\n",
    "num_agents = len(env_info.agents)\n",
    "print('Number of agents:', num_agents)\n",
    "\n",
    "# size of each action\n",
    "action_size = brain.vector_action_space_size\n",
    "print('Size of each action:', action_size)\n",
    "\n",
    "# examine the state space \n",
    "states = env_info.vector_observations\n",
    "state_size = states.shape[1]\n",
    "print('There are {} agents. Each observes a state with length: {}'.format(states.shape[0], state_size))\n",
    "print('The state for the first agent looks like:', states[0])"
   ]
  },
  {
   "cell_type": "markdown",
   "metadata": {},
   "source": [
    "## Solution\n",
    "\n",
    "Now it's your turn to train your own agent to solve the environment!  When training the environment, set `train_mode=True`, so that the line for resetting the environment looks like the following:\n",
    "```python\n",
    "env_info = env.reset(train_mode=True)[brain_name]\n",
    "```"
   ]
  },
  {
   "cell_type": "code",
   "execution_count": 8,
   "metadata": {},
   "outputs": [],
   "source": [
    "def ddpg_train(target_score=30, n_episodes=300, learn_every=20, print_every=10, save_every=10, max_t=1000):\n",
    "    \"\"\"Deep Deterministic Policy Gradients (DDPG).\n",
    "    \n",
    "    \"\"\"\n",
    "    scores = []                                  \n",
    "    \n",
    "    for i_episode in range(1, n_episodes+1):\n",
    "        env_info = env.reset(train_mode=True)[brain_name]     # reset the environment    \n",
    "        states = env_info.vector_observations                 # get the current state (for each agent)\n",
    "        score = np.zeros(num_agents)                          # initialize scores (for each agent)\n",
    "        agent.reset()                                         # reset noise\n",
    "        \n",
    "        # generate trajectories\n",
    "        for t in range(max_t):\n",
    "            # act\n",
    "            actions = agent.act(states, add_noise=True)       # select action based on the current policy\n",
    "            env_info = env.step(actions)[brain_name]          # interact with the environment\n",
    "            \n",
    "            # observe\n",
    "            next_states = env_info.vector_observations        # get next state (for each agent)\n",
    "            rewards = env_info.rewards                        # get reward (for each agent)\n",
    "            dones = env_info.local_done                       # see if episode finished (for each agent)\n",
    "\n",
    "            # add trajectories to replay buffer\n",
    "            for (state, action, reward, next_state, done) in zip(states, actions, rewards, next_states, dones):\n",
    "                agent.step(state, action, reward, next_state, done)\n",
    "                \n",
    "            # invoke training every 'learn_every' time steps\n",
    "            if t%learn_every==0:\n",
    "                for _ in range(10): \n",
    "                    agent.invoke_training()                    # train 10 times\n",
    "            \n",
    "            score += rewards                                   # update scores (for each agent)\n",
    "            states = next_states                               # roll over states to next time step\n",
    "            \n",
    "            # start next episode if any agent is done\n",
    "            if np.any(dones):\n",
    "                break\n",
    "        \n",
    "        # book keeping\n",
    "        scores.append(np.mean(score))\n",
    "\n",
    "        # save checkpoint\n",
    "        if i_episode%save_every==0:\n",
    "            torch.save(agent.actor_local.state_dict(), 'ckpts\\checkpoint_actor-ep{:d}.pth'.format(i_episode))\n",
    "            torch.save(agent.critic_local.state_dict(), 'ckpts\\checkpoint_critic-ep{:d}.pth'.format(i_episode))\n",
    "        \n",
    "        # print training status\n",
    "        if i_episode%print_every==0:\n",
    "            print('\\rEpisode {}\\tAverage Score: {:.2f}\\tScore: {:.2f}'\n",
    "              .format(i_episode, np.mean(scores[-100:]), np.mean(score)))\n",
    "        \n",
    "        # training finished when target performance reached\n",
    "        if i_episode >= 100 and np.mean(scores[-100:]) >= target_score:\n",
    "            print('\\nEnvironment solved in {:d} episodes with an average score of {:.2f} over the last 100 episodes'.format(i_episode, np.mean(scores[-100:])))\n",
    "            torch.save(agent.actor_local.state_dict(), 'checkpoint_actor.pth')\n",
    "            torch.save(agent.critic_local.state_dict(), 'checkpoint_critic.pth')\n",
    "            break\n",
    "        \n",
    "    return scores\n",
    "         "
   ]
  },
  {
   "cell_type": "markdown",
   "metadata": {},
   "source": [
    "### Training the agent"
   ]
  },
  {
   "cell_type": "code",
   "execution_count": 11,
   "metadata": {},
   "outputs": [
    {
     "name": "stdout",
     "output_type": "stream",
     "text": [
      "cpu\n"
     ]
    }
   ],
   "source": [
    "# initialize the agent\n",
    "agent = Agent(state_size=state_size, action_size=action_size, random_seed=7)"
   ]
  },
  {
   "cell_type": "code",
   "execution_count": 10,
   "metadata": {},
   "outputs": [
    {
     "name": "stdout",
     "output_type": "stream",
     "text": [
      "Episode 1\tAverage Score: 0.59\tScore: 0.59\n",
      "Episode 2\tAverage Score: 0.63\tScore: 0.68\n",
      "Episode 3\tAverage Score: 0.74\tScore: 0.97\n",
      "Episode 4\tAverage Score: 0.81\tScore: 1.02\n",
      "Episode 5\tAverage Score: 0.84\tScore: 0.97\n",
      "Episode 6\tAverage Score: 0.81\tScore: 0.66\n",
      "Episode 7\tAverage Score: 0.82\tScore: 0.87\n",
      "Episode 8\tAverage Score: 0.88\tScore: 1.30\n",
      "Episode 9\tAverage Score: 0.91\tScore: 1.10\n",
      "Episode 10\tAverage Score: 0.92\tScore: 1.00\n",
      "Episode 11\tAverage Score: 0.95\tScore: 1.31\n",
      "Episode 12\tAverage Score: 1.00\tScore: 1.49\n",
      "Episode 13\tAverage Score: 1.03\tScore: 1.46\n",
      "Episode 14\tAverage Score: 1.09\tScore: 1.77\n",
      "Episode 15\tAverage Score: 1.16\tScore: 2.21\n",
      "Episode 16\tAverage Score: 1.22\tScore: 2.07\n",
      "Episode 17\tAverage Score: 1.29\tScore: 2.43\n",
      "Episode 18\tAverage Score: 1.35\tScore: 2.38\n",
      "Episode 19\tAverage Score: 1.40\tScore: 2.23\n",
      "Episode 20\tAverage Score: 1.47\tScore: 2.92\n",
      "Episode 21\tAverage Score: 1.54\tScore: 3.01\n",
      "Episode 22\tAverage Score: 1.64\tScore: 3.66\n",
      "Episode 23\tAverage Score: 1.72\tScore: 3.35\n",
      "Episode 24\tAverage Score: 1.79\tScore: 3.51\n",
      "Episode 25\tAverage Score: 1.86\tScore: 3.66\n",
      "Episode 26\tAverage Score: 1.93\tScore: 3.62\n",
      "Episode 27\tAverage Score: 2.02\tScore: 4.36\n",
      "Episode 28\tAverage Score: 2.14\tScore: 5.22\n",
      "Episode 29\tAverage Score: 2.28\tScore: 6.41\n",
      "Episode 30\tAverage Score: 2.43\tScore: 6.76\n",
      "Episode 31\tAverage Score: 2.54\tScore: 5.79\n",
      "Episode 32\tAverage Score: 2.73\tScore: 8.67\n",
      "Episode 33\tAverage Score: 2.86\tScore: 7.09\n",
      "Episode 34\tAverage Score: 3.09\tScore: 10.51\n",
      "Episode 35\tAverage Score: 3.26\tScore: 8.91\n",
      "Episode 36\tAverage Score: 3.46\tScore: 10.75\n",
      "Episode 37\tAverage Score: 3.65\tScore: 10.25\n",
      "Episode 38\tAverage Score: 3.88\tScore: 12.29\n",
      "Episode 39\tAverage Score: 4.14\tScore: 14.12\n",
      "Episode 40\tAverage Score: 4.42\tScore: 15.44\n",
      "Episode 41\tAverage Score: 4.70\tScore: 16.02\n",
      "Episode 42\tAverage Score: 4.97\tScore: 15.80\n",
      "Episode 43\tAverage Score: 5.28\tScore: 18.27\n",
      "Episode 44\tAverage Score: 5.54\tScore: 16.77\n",
      "Episode 45\tAverage Score: 5.90\tScore: 21.95\n",
      "Episode 46\tAverage Score: 6.21\tScore: 19.86\n",
      "Episode 47\tAverage Score: 6.57\tScore: 23.48\n",
      "Episode 48\tAverage Score: 6.89\tScore: 21.81\n",
      "Episode 49\tAverage Score: 7.19\tScore: 21.42\n",
      "Episode 50\tAverage Score: 7.54\tScore: 24.77\n",
      "Episode 51\tAverage Score: 7.87\tScore: 24.24\n",
      "Episode 52\tAverage Score: 8.20\tScore: 25.25\n",
      "Episode 53\tAverage Score: 8.50\tScore: 24.22\n",
      "Episode 54\tAverage Score: 8.82\tScore: 25.77\n",
      "Episode 55\tAverage Score: 9.18\tScore: 28.20\n",
      "Episode 56\tAverage Score: 9.50\tScore: 27.13\n",
      "Episode 57\tAverage Score: 9.84\tScore: 29.15\n",
      "Episode 58\tAverage Score: 10.19\tScore: 29.90\n",
      "Episode 59\tAverage Score: 10.52\tScore: 29.66\n",
      "Episode 60\tAverage Score: 10.87\tScore: 31.88\n",
      "Episode 61\tAverage Score: 11.24\tScore: 32.97\n",
      "Episode 62\tAverage Score: 11.58\tScore: 32.86\n",
      "Episode 63\tAverage Score: 11.93\tScore: 33.44\n",
      "Episode 64\tAverage Score: 12.27\tScore: 33.80\n",
      "Episode 65\tAverage Score: 12.64\tScore: 36.22\n",
      "Episode 66\tAverage Score: 12.97\tScore: 34.61\n",
      "Episode 67\tAverage Score: 13.30\tScore: 35.14\n",
      "Episode 68\tAverage Score: 13.64\tScore: 35.89\n",
      "Episode 69\tAverage Score: 13.94\tScore: 34.42\n",
      "Episode 70\tAverage Score: 14.26\tScore: 36.50\n",
      "Episode 71\tAverage Score: 14.56\tScore: 35.31\n",
      "Episode 72\tAverage Score: 14.84\tScore: 35.24\n",
      "Episode 73\tAverage Score: 15.14\tScore: 36.30\n",
      "Episode 74\tAverage Score: 15.43\tScore: 36.66\n",
      "Episode 75\tAverage Score: 15.70\tScore: 35.76\n",
      "Episode 76\tAverage Score: 15.97\tScore: 36.18\n",
      "Episode 77\tAverage Score: 16.23\tScore: 36.44\n",
      "Episode 78\tAverage Score: 16.51\tScore: 37.37\n",
      "Episode 79\tAverage Score: 16.77\tScore: 37.16\n",
      "Episode 80\tAverage Score: 17.00\tScore: 35.42\n",
      "Episode 81\tAverage Score: 17.25\tScore: 37.50\n",
      "Episode 82\tAverage Score: 17.49\tScore: 36.76\n",
      "Episode 83\tAverage Score: 17.73\tScore: 37.04\n",
      "Episode 84\tAverage Score: 17.97\tScore: 37.89\n",
      "Episode 85\tAverage Score: 18.18\tScore: 36.33\n",
      "Episode 86\tAverage Score: 18.42\tScore: 38.47\n",
      "Episode 87\tAverage Score: 18.64\tScore: 37.45\n",
      "Episode 88\tAverage Score: 18.86\tScore: 37.92\n",
      "Episode 89\tAverage Score: 19.07\tScore: 37.99\n",
      "Episode 90\tAverage Score: 19.29\tScore: 38.53\n",
      "Episode 91\tAverage Score: 19.48\tScore: 36.94\n",
      "Episode 92\tAverage Score: 19.68\tScore: 37.39\n",
      "Episode 93\tAverage Score: 19.88\tScore: 38.52\n",
      "Episode 94\tAverage Score: 20.08\tScore: 38.76\n",
      "Episode 95\tAverage Score: 20.27\tScore: 38.57\n",
      "Episode 96\tAverage Score: 20.47\tScore: 38.91\n",
      "Episode 97\tAverage Score: 20.66\tScore: 39.25\n",
      "Episode 98\tAverage Score: 20.84\tScore: 38.27\n",
      "Episode 99\tAverage Score: 21.02\tScore: 38.81\n",
      "Episode 100\tAverage Score: 21.19\tScore: 37.97\n",
      "Episode 101\tAverage Score: 21.56\tScore: 36.87\n",
      "Episode 102\tAverage Score: 21.92\tScore: 37.17\n",
      "Episode 103\tAverage Score: 22.30\tScore: 38.80\n",
      "Episode 104\tAverage Score: 22.68\tScore: 39.04\n",
      "Episode 105\tAverage Score: 23.04\tScore: 36.72\n",
      "Episode 106\tAverage Score: 23.41\tScore: 37.50\n",
      "Episode 107\tAverage Score: 23.77\tScore: 37.31\n",
      "Episode 108\tAverage Score: 24.14\tScore: 38.42\n",
      "Episode 109\tAverage Score: 24.51\tScore: 37.96\n",
      "Episode 110\tAverage Score: 24.89\tScore: 38.96\n",
      "Episode 111\tAverage Score: 25.26\tScore: 37.95\n",
      "Episode 112\tAverage Score: 25.62\tScore: 38.09\n",
      "Episode 113\tAverage Score: 25.98\tScore: 37.04\n",
      "Episode 114\tAverage Score: 26.34\tScore: 38.07\n",
      "Episode 115\tAverage Score: 26.70\tScore: 38.27\n",
      "Episode 116\tAverage Score: 27.04\tScore: 36.25\n",
      "Episode 117\tAverage Score: 27.39\tScore: 37.58\n",
      "Episode 118\tAverage Score: 27.74\tScore: 37.37\n",
      "Episode 119\tAverage Score: 28.11\tScore: 38.31\n",
      "Episode 120\tAverage Score: 28.46\tScore: 38.30\n",
      "Episode 121\tAverage Score: 28.81\tScore: 38.29\n",
      "Episode 122\tAverage Score: 29.15\tScore: 37.27\n",
      "Episode 123\tAverage Score: 29.49\tScore: 37.85\n",
      "Episode 124\tAverage Score: 29.84\tScore: 38.38\n",
      "Episode 125\tAverage Score: 30.18\tScore: 37.85\n",
      "\n",
      "Environment solved in 125 episodes with an average score of 30.18 over the last 100 episodes\n"
     ]
    }
   ],
   "source": [
    "# run training\n",
    "scores=ddpg_train(target_score=30, n_episodes=500, learn_every=20, print_every=1, save_every=10)"
   ]
  },
  {
   "cell_type": "markdown",
   "metadata": {},
   "source": [
    "### Results"
   ]
  },
  {
   "cell_type": "code",
   "execution_count": 9,
   "metadata": {},
   "outputs": [
    {
     "data": {
      "image/png": "[encoded data removed]",
      "text/plain": [
       "<Figure size 432x288 with 1 Axes>"
      ]
     },
     "metadata": {
      "needs_background": "light"
     },
     "output_type": "display_data"
    }
   ],
   "source": [
    "# plot final results\n",
    "fig = plt.figure()\n",
    "ax = fig.add_subplot(111)\n",
    "plt.plot(np.arange(len(scores)), scores)\n",
    "plt.ylabel('Score')\n",
    "plt.xlabel('Episode #')\n",
    "plt.show()"
   ]
  },
  {
   "cell_type": "markdown",
   "metadata": {},
   "source": [
    "### Let the trained agent interact with the environment"
   ]
  },
  {
   "cell_type": "code",
   "execution_count": 12,
   "metadata": {},
   "outputs": [
    {
     "data": {
      "text/plain": [
       "<All keys matched successfully>"
      ]
     },
     "execution_count": 12,
     "metadata": {},
     "output_type": "execute_result"
    }
   ],
   "source": [
    "# restore saved agent\n",
    "agent.actor_local.load_state_dict(torch.load('checkpoint_actor.pth'))\n",
    "agent.critic_local.load_state_dict(torch.load('checkpoint_critic.pth'))"
   ]
  },
  {
   "cell_type": "code",
   "execution_count": 14,
   "metadata": {},
   "outputs": [
    {
     "name": "stdout",
     "output_type": "stream",
     "text": [
      "Total score (averaged over agents) this episode: 37.84799915403128\n"
     ]
    }
   ],
   "source": [
    "env_info = env.reset(train_mode=False)[brain_name]     # reset the environment    \n",
    "states = env_info.vector_observations                  # get the current state (for each agent)\n",
    "scores = np.zeros(num_agents)                          # initialize the score (for each agent)\n",
    "agent.reset()\n",
    "while True:\n",
    "    actions = agent.act(state=states, add_noise=False)                  # select an action (for each agent)\n",
    "    env_info = env.step(actions)[brain_name]           # send all actions to tne environment\n",
    "    next_states = env_info.vector_observations         # get next state (for each agent)\n",
    "    rewards = env_info.rewards                         # get reward (for each agent)\n",
    "    dones = env_info.local_done                        # see if episode finished\n",
    "    scores += env_info.rewards                         # update the score (for each agent)\n",
    "    states = next_states                               # roll over states to next time step\n",
    "    if np.any(dones):                                  # exit loop if episode finished\n",
    "        break\n",
    "\n",
    "print('Total score (averaged over agents) this episode: {}'.format(np.mean(scores)))"
   ]
  },
  {
   "cell_type": "code",
   "execution_count": 15,
   "metadata": {},
   "outputs": [],
   "source": [
    "env.close()"
   ]
  },
  {
   "cell_type": "code",
   "execution_count": null,
   "metadata": {},
   "outputs": [],
   "source": []
  }
 ],
 "metadata": {
  "kernelspec": {
   "display_name": "drlnd",
   "language": "python",
   "name": "drlnd"
  },
  "language_info": {
   "codemirror_mode": {
    "name": "ipython",
    "version": 3
   },
   "file_extension": ".py",
   "mimetype": "text/x-python",
   "name": "python",
   "nbconvert_exporter": "python",
   "pygments_lexer": "ipython3",
   "version": "3.6.13"
  }
 },
 "nbformat": 4,
 "nbformat_minor": 2
}
